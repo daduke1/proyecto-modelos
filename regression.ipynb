{
 "cells": [
  {
   "cell_type": "code",
   "execution_count": 1,
   "id": "52f8e18c",
   "metadata": {},
   "outputs": [
    {
     "name": "stdout",
     "output_type": "stream",
     "text": [
      "{'uci_id': 492, 'name': 'Metro Interstate Traffic Volume', 'repository_url': 'https://archive.ics.uci.edu/dataset/492/metro+interstate+traffic+volume', 'data_url': 'https://archive.ics.uci.edu/static/public/492/data.csv', 'abstract': 'Hourly Minneapolis-St Paul, MN traffic volume for westbound I-94. Includes weather and holiday features from 2012-2018.', 'area': 'Other', 'tasks': ['Regression'], 'characteristics': ['Multivariate', 'Sequential', 'Time-Series'], 'num_instances': 48204, 'num_features': 8, 'feature_types': ['Integer', 'Real'], 'demographics': [], 'target_col': ['traffic_volume'], 'index_col': None, 'has_missing_values': 'no', 'missing_values_symbol': None, 'year_of_dataset_creation': 2019, 'last_updated': 'Fri Mar 15 2024', 'dataset_doi': '10.24432/C5X60B', 'creators': ['John Hogue'], 'intro_paper': None, 'additional_info': {'summary': 'Hourly Interstate 94 Westbound traffic volume for MN DoT ATR station 301, roughly midway between Minneapolis and St Paul, MN. Hourly weather features and holidays included for impacts on traffic volume.', 'purpose': None, 'funded_by': None, 'instances_represent': None, 'recommended_data_splits': None, 'sensitive_data': None, 'preprocessing_description': None, 'variable_info': 'holiday                Categorical    US National holidays plus regional holiday, Minnesota State Fair\\r\\ntemp                   Numeric        Average temp in kelvin\\r\\nrain_1h                Numeric        Amount in mm of rain that occurred in the hour\\r\\nsnow_1h                Numeric        Amount in mm of snow that occurred in the hour\\r\\nclouds_all             Numeric        Percentage of cloud cover\\r\\nweather_main           Categorical    Short textual description of the current weather\\r\\nweather_description    Categorical    Longer textual description of the current weather\\r\\ndate_time              DateTime       Hour of the data collected in local CST time\\r\\ntraffic_volume         Numeric        Hourly I-94 ATR 301 reported westbound traffic volume', 'citation': None}}\n",
      "                  name     role         type demographic  \\\n",
      "0              holiday  Feature  Categorical        None   \n",
      "1                 temp  Feature   Continuous        None   \n",
      "2              rain_1h  Feature   Continuous        None   \n",
      "3              snow_1h  Feature   Continuous        None   \n",
      "4           clouds_all  Feature      Integer        None   \n",
      "5         weather_main  Feature  Categorical        None   \n",
      "6  weather_description  Feature  Categorical        None   \n",
      "7            date_time  Feature         Date        None   \n",
      "8       traffic_volume   Target      Integer        None   \n",
      "\n",
      "                                         description   units missing_values  \n",
      "0  US National holidays plus regional holiday, Mi...    None             no  \n",
      "1                             Average temp in kelvin  Kelvin             no  \n",
      "2     Amount in mm of rain that occurred in the hour      mm             no  \n",
      "3     Amount in mm of snow that occurred in the hour      mm             no  \n",
      "4                          Percentage of cloud cover       %             no  \n",
      "5   Short textual description of the current weather    None             no  \n",
      "6  Longer textual description of the current weather    None             no  \n",
      "7       Hour of the data collected in local CST time    None             no  \n",
      "8  Hourly I-94 ATR 301 reported westbound traffic...    None             no  \n"
     ]
    }
   ],
   "source": [
    "from ucimlrepo import fetch_ucirepo \n",
    "  \n",
    "# fetch dataset \n",
    "metro_interstate_traffic_volume = fetch_ucirepo(id=492) \n",
    "  \n",
    "# data (as pandas dataframes) \n",
    "X = metro_interstate_traffic_volume.data.features \n",
    "y = metro_interstate_traffic_volume.data.targets \n",
    "  \n",
    "# metadata \n",
    "print(metro_interstate_traffic_volume.metadata) \n",
    "  \n",
    "# variable information \n",
    "print(metro_interstate_traffic_volume.variables) "
   ]
  }
 ],
 "metadata": {
  "kernelspec": {
   "display_name": ".venv",
   "language": "python",
   "name": "python3"
  },
  "language_info": {
   "codemirror_mode": {
    "name": "ipython",
    "version": 3
   },
   "file_extension": ".py",
   "mimetype": "text/x-python",
   "name": "python",
   "nbconvert_exporter": "python",
   "pygments_lexer": "ipython3",
   "version": "3.11.7"
  }
 },
 "nbformat": 4,
 "nbformat_minor": 5
}
